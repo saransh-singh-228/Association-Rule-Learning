{
  "cells": [
    {
      "cell_type": "markdown",
      "metadata": {
        "id": "view-in-github",
        "colab_type": "text"
      },
      "source": [
        "<a href=\"https://colab.research.google.com/github/saransh-singh-228/Association-Rule-Learning/blob/main/associated_rule_learning_apriori.ipynb\" target=\"_parent\"><img src=\"https://colab.research.google.com/assets/colab-badge.svg\" alt=\"Open In Colab\"/></a>"
      ]
    },
    {
      "cell_type": "markdown",
      "metadata": {
        "id": "1fziHl7Ar94J"
      },
      "source": [
        "# Apriori"
      ]
    },
    {
      "cell_type": "markdown",
      "metadata": {
        "id": "eiNwni1xsEgT"
      },
      "source": [
        "## Importing the libraries"
      ]
    },
    {
      "cell_type": "code",
      "execution_count": null,
      "metadata": {
        "colab": {
          "base_uri": "https://localhost:8080/"
        },
        "id": "DUF77Qr1vqyM",
        "outputId": "2471f086-69e1-417e-8e32-8e8860897d13"
      },
      "outputs": [
        {
          "name": "stdout",
          "output_type": "stream",
          "text": [
            "Looking in indexes: https://pypi.org/simple, https://us-python.pkg.dev/colab-wheels/public/simple/\n",
            "Collecting apyori\n",
            "  Downloading apyori-1.1.2.tar.gz (8.6 kB)\n",
            "Building wheels for collected packages: apyori\n",
            "  Building wheel for apyori (setup.py) ... \u001b[?25l\u001b[?25hdone\n",
            "  Created wheel for apyori: filename=apyori-1.1.2-py3-none-any.whl size=5974 sha256=595dd1d43288a11a7655d036da31bf72aae7967982d92f1716b46a5991ea21b1\n",
            "  Stored in directory: /root/.cache/pip/wheels/cb/f6/e1/57973c631d27efd1a2f375bd6a83b2a616c4021f24aab84080\n",
            "Successfully built apyori\n",
            "Installing collected packages: apyori\n",
            "Successfully installed apyori-1.1.2\n"
          ]
        }
      ],
      "source": [
        "%pip install apyori"
      ]
    },
    {
      "cell_type": "code",
      "execution_count": null,
      "metadata": {
        "id": "UJfitBClsJlT"
      },
      "outputs": [],
      "source": [
        "import numpy as np\n",
        "import matplotlib.pyplot as plt\n",
        "import pandas as pd"
      ]
    },
    {
      "cell_type": "markdown",
      "metadata": {
        "id": "vLt-7XUKsXBd"
      },
      "source": [
        "## Data Preprocessing"
      ]
    },
    {
      "cell_type": "code",
      "execution_count": null,
      "metadata": {
        "id": "J_A-UFOAsaDf"
      },
      "outputs": [],
      "source": [
        "dataset = pd.read_csv('groceries - groceries.csv')\n",
        "transactions = []\n",
        "for i in range(0, 9835):\n",
        "  a=[]\n",
        "  for j in range(1,(dataset.values[i,0]+1)):\n",
        "    a.append(dataset.values[i,j])\n",
        "  transactions.append(a)\n",
        "  del a"
      ]
    },
    {
      "cell_type": "code",
      "execution_count": null,
      "metadata": {
        "colab": {
          "base_uri": "https://localhost:8080/"
        },
        "id": "g7TqsS4dlJ8K",
        "outputId": "2dbcacdf-d798-47f0-a3d5-ee8e4f6cb222"
      },
      "outputs": [
        {
          "name": "stdout",
          "output_type": "stream",
          "text": [
            "[['citrus fruit', 'semi-finished bread', 'margarine', 'ready soups'], ['tropical fruit', 'yogurt', 'coffee'], ['whole milk'], ['pip fruit', 'yogurt', 'cream cheese', 'meat spreads'], ['other vegetables', 'whole milk', 'condensed milk', 'long life bakery product'], ['whole milk', 'butter', 'yogurt', 'rice', 'abrasive cleaner'], ['rolls/buns'], ['other vegetables', 'UHT-milk', 'rolls/buns', 'bottled beer', 'liquor (appetizer)'], ['potted plants'], ['whole milk', 'cereals']]\n"
          ]
        }
      ],
      "source": [
        "print(transactions[0:10])"
      ]
    },
    {
      "cell_type": "markdown",
      "metadata": {
        "id": "1wYZdBd5sea_"
      },
      "source": [
        "## Training the Apriori model on the dataset"
      ]
    },
    {
      "cell_type": "code",
      "execution_count": null,
      "metadata": {
        "id": "YzIk4vXZsj5i"
      },
      "outputs": [],
      "source": [
        "from apyori import apriori\n",
        "rules = apriori(transactions = transactions, min_support = 0.003, min_confidence = 0.2, min_lift = 3, min_length = 2, max_length = 2)"
      ]
    },
    {
      "cell_type": "markdown",
      "metadata": {
        "id": "b176YNwWspiO"
      },
      "source": [
        "## Visualising the results"
      ]
    },
    {
      "cell_type": "markdown",
      "metadata": {
        "id": "iO6bF_dImT-E"
      },
      "source": [
        "### Displaying the first results coming directly from the output of the apriori function"
      ]
    },
    {
      "cell_type": "code",
      "execution_count": null,
      "metadata": {
        "id": "kvF-sLc6ifhd"
      },
      "outputs": [],
      "source": [
        "results = list(rules)"
      ]
    },
    {
      "cell_type": "code",
      "execution_count": null,
      "metadata": {
        "colab": {
          "base_uri": "https://localhost:8080/"
        },
        "id": "eAD8Co4_l9IE",
        "outputId": "99685739-d4b5-4120-c29e-a7dcbc82af96"
      },
      "outputs": [
        {
          "data": {
            "text/plain": [
              "[RelationRecord(items=frozenset({'Instant food products', 'hamburger meat'}), support=0.003050330452465684, ordered_statistics=[OrderedStatistic(items_base=frozenset({'Instant food products'}), items_add=frozenset({'hamburger meat'}), confidence=0.379746835443038, lift=11.42143769597027)]),\n",
              " RelationRecord(items=frozenset({'whipped/sour cream', 'baking powder'}), support=0.004575495678698526, ordered_statistics=[OrderedStatistic(items_base=frozenset({'baking powder'}), items_add=frozenset({'whipped/sour cream'}), confidence=0.25862068965517243, lift=3.607850330154072)]),\n",
              " RelationRecord(items=frozenset({'root vegetables', 'beef'}), support=0.017386883579054397, ordered_statistics=[OrderedStatistic(items_base=frozenset({'beef'}), items_add=frozenset({'root vegetables'}), confidence=0.3313953488372093, lift=3.0403668431100312)]),\n",
              " RelationRecord(items=frozenset({'whipped/sour cream', 'berries'}), support=0.009049313675648195, ordered_statistics=[OrderedStatistic(items_base=frozenset({'berries'}), items_add=frozenset({'whipped/sour cream'}), confidence=0.27217125382262997, lift=3.796885505454703)]),\n",
              " RelationRecord(items=frozenset({'bottled beer', 'liquor'}), support=0.004677173360447382, ordered_statistics=[OrderedStatistic(items_base=frozenset({'liquor'}), items_add=frozenset({'bottled beer'}), confidence=0.4220183486238532, lift=5.240594013529793)]),\n",
              " RelationRecord(items=frozenset({'bottled beer', 'red/blush wine'}), support=0.004880528723945094, ordered_statistics=[OrderedStatistic(items_base=frozenset({'red/blush wine'}), items_add=frozenset({'bottled beer'}), confidence=0.253968253968254, lift=3.1537598204264876)]),\n",
              " RelationRecord(items=frozenset({'margarine', 'flour'}), support=0.0037620742247076767, ordered_statistics=[OrderedStatistic(items_base=frozenset({'flour'}), items_add=frozenset({'margarine'}), confidence=0.21637426900584797, lift=3.6945155133203382)]),\n",
              " RelationRecord(items=frozenset({'sugar', 'flour'}), support=0.00498220640569395, ordered_statistics=[OrderedStatistic(items_base=frozenset({'flour'}), items_add=frozenset({'sugar'}), confidence=0.28654970760233917, lift=8.46311223504206)]),\n",
              " RelationRecord(items=frozenset({'whipped/sour cream', 'flour'}), support=0.004067107269954245, ordered_statistics=[OrderedStatistic(items_base=frozenset({'flour'}), items_add=frozenset({'whipped/sour cream'}), confidence=0.23391812865497078, lift=3.263240844427855)]),\n",
              " RelationRecord(items=frozenset({'herbs', 'root vegetables'}), support=0.007015760040671073, ordered_statistics=[OrderedStatistic(items_base=frozenset({'herbs'}), items_add=frozenset({'root vegetables'}), confidence=0.43124999999999997, lift=3.956477378731343)]),\n",
              " RelationRecord(items=frozenset({'processed cheese', 'white bread'}), support=0.004168784951703101, ordered_statistics=[OrderedStatistic(items_base=frozenset({'processed cheese'}), items_add=frozenset({'white bread'}), confidence=0.25153374233128833, lift=5.975445303932901)]),\n",
              " RelationRecord(items=frozenset({'rice', 'root vegetables'}), support=0.00315200813421454, ordered_statistics=[OrderedStatistic(items_base=frozenset({'rice'}), items_add=frozenset({'root vegetables'}), confidence=0.4133333333333334, lift=3.792101990049752)]),\n",
              " RelationRecord(items=frozenset({'sausage', 'sliced cheese'}), support=0.007015760040671073, ordered_statistics=[OrderedStatistic(items_base=frozenset({'sliced cheese'}), items_add=frozenset({'sausage'}), confidence=0.2863070539419087, lift=3.047434930215013)])]"
            ]
          },
          "execution_count": 31,
          "metadata": {},
          "output_type": "execute_result"
        }
      ],
      "source": [
        "results"
      ]
    },
    {
      "cell_type": "markdown",
      "metadata": {
        "id": "MFkQP-fcjDBC"
      },
      "source": [
        "### Putting the results well organised into a Pandas DataFrame"
      ]
    },
    {
      "cell_type": "code",
      "execution_count": null,
      "metadata": {
        "id": "gyq7Poi0mMUe"
      },
      "outputs": [],
      "source": [
        "def inspect(results):\n",
        "    lhs         = [tuple(result[2][0][0])[0] for result in results]\n",
        "    rhs         = [tuple(result[2][0][1])[0] for result in results]\n",
        "    supports    = [result[1] for result in results]\n",
        "    confidences = [result[2][0][2] for result in results]\n",
        "    lifts       = [result[2][0][3] for result in results]\n",
        "    return list(zip(lhs, rhs, supports, confidences, lifts))\n",
        "resultsinDataFrame = pd.DataFrame(inspect(results), columns = ['Left Hand Side', 'Right Hand Side', 'Support', 'Confidence', 'Lift'])"
      ]
    },
    {
      "cell_type": "markdown",
      "metadata": {
        "id": "Pfn-G1eAjjLz"
      },
      "source": [
        "### Displaying the results non sorted"
      ]
    },
    {
      "cell_type": "code",
      "execution_count": null,
      "metadata": {
        "colab": {
          "base_uri": "https://localhost:8080/",
          "height": 457
        },
        "id": "CmDCcs_6ip9V",
        "outputId": "da0c9fff-fe71-4bee-fb00-430689e05ac2"
      },
      "outputs": [
        {
          "data": {
            "text/html": [
              "\n",
              "  <div id=\"df-5f02069f-ebe2-47ce-9a1e-8fc2e06737c7\">\n",
              "    <div class=\"colab-df-container\">\n",
              "      <div>\n",
              "<style scoped>\n",
              "    .dataframe tbody tr th:only-of-type {\n",
              "        vertical-align: middle;\n",
              "    }\n",
              "\n",
              "    .dataframe tbody tr th {\n",
              "        vertical-align: top;\n",
              "    }\n",
              "\n",
              "    .dataframe thead th {\n",
              "        text-align: right;\n",
              "    }\n",
              "</style>\n",
              "<table border=\"1\" class=\"dataframe\">\n",
              "  <thead>\n",
              "    <tr style=\"text-align: right;\">\n",
              "      <th></th>\n",
              "      <th>Left Hand Side</th>\n",
              "      <th>Right Hand Side</th>\n",
              "      <th>Support</th>\n",
              "      <th>Confidence</th>\n",
              "      <th>Lift</th>\n",
              "    </tr>\n",
              "  </thead>\n",
              "  <tbody>\n",
              "    <tr>\n",
              "      <th>0</th>\n",
              "      <td>Instant food products</td>\n",
              "      <td>hamburger meat</td>\n",
              "      <td>0.003050</td>\n",
              "      <td>0.379747</td>\n",
              "      <td>11.421438</td>\n",
              "    </tr>\n",
              "    <tr>\n",
              "      <th>1</th>\n",
              "      <td>baking powder</td>\n",
              "      <td>whipped/sour cream</td>\n",
              "      <td>0.004575</td>\n",
              "      <td>0.258621</td>\n",
              "      <td>3.607850</td>\n",
              "    </tr>\n",
              "    <tr>\n",
              "      <th>2</th>\n",
              "      <td>beef</td>\n",
              "      <td>root vegetables</td>\n",
              "      <td>0.017387</td>\n",
              "      <td>0.331395</td>\n",
              "      <td>3.040367</td>\n",
              "    </tr>\n",
              "    <tr>\n",
              "      <th>3</th>\n",
              "      <td>berries</td>\n",
              "      <td>whipped/sour cream</td>\n",
              "      <td>0.009049</td>\n",
              "      <td>0.272171</td>\n",
              "      <td>3.796886</td>\n",
              "    </tr>\n",
              "    <tr>\n",
              "      <th>4</th>\n",
              "      <td>liquor</td>\n",
              "      <td>bottled beer</td>\n",
              "      <td>0.004677</td>\n",
              "      <td>0.422018</td>\n",
              "      <td>5.240594</td>\n",
              "    </tr>\n",
              "    <tr>\n",
              "      <th>5</th>\n",
              "      <td>red/blush wine</td>\n",
              "      <td>bottled beer</td>\n",
              "      <td>0.004881</td>\n",
              "      <td>0.253968</td>\n",
              "      <td>3.153760</td>\n",
              "    </tr>\n",
              "    <tr>\n",
              "      <th>6</th>\n",
              "      <td>flour</td>\n",
              "      <td>margarine</td>\n",
              "      <td>0.003762</td>\n",
              "      <td>0.216374</td>\n",
              "      <td>3.694516</td>\n",
              "    </tr>\n",
              "    <tr>\n",
              "      <th>7</th>\n",
              "      <td>flour</td>\n",
              "      <td>sugar</td>\n",
              "      <td>0.004982</td>\n",
              "      <td>0.286550</td>\n",
              "      <td>8.463112</td>\n",
              "    </tr>\n",
              "    <tr>\n",
              "      <th>8</th>\n",
              "      <td>flour</td>\n",
              "      <td>whipped/sour cream</td>\n",
              "      <td>0.004067</td>\n",
              "      <td>0.233918</td>\n",
              "      <td>3.263241</td>\n",
              "    </tr>\n",
              "    <tr>\n",
              "      <th>9</th>\n",
              "      <td>herbs</td>\n",
              "      <td>root vegetables</td>\n",
              "      <td>0.007016</td>\n",
              "      <td>0.431250</td>\n",
              "      <td>3.956477</td>\n",
              "    </tr>\n",
              "    <tr>\n",
              "      <th>10</th>\n",
              "      <td>processed cheese</td>\n",
              "      <td>white bread</td>\n",
              "      <td>0.004169</td>\n",
              "      <td>0.251534</td>\n",
              "      <td>5.975445</td>\n",
              "    </tr>\n",
              "    <tr>\n",
              "      <th>11</th>\n",
              "      <td>rice</td>\n",
              "      <td>root vegetables</td>\n",
              "      <td>0.003152</td>\n",
              "      <td>0.413333</td>\n",
              "      <td>3.792102</td>\n",
              "    </tr>\n",
              "    <tr>\n",
              "      <th>12</th>\n",
              "      <td>sliced cheese</td>\n",
              "      <td>sausage</td>\n",
              "      <td>0.007016</td>\n",
              "      <td>0.286307</td>\n",
              "      <td>3.047435</td>\n",
              "    </tr>\n",
              "  </tbody>\n",
              "</table>\n",
              "</div>\n",
              "      <button class=\"colab-df-convert\" onclick=\"convertToInteractive('df-5f02069f-ebe2-47ce-9a1e-8fc2e06737c7')\"\n",
              "              title=\"Convert this dataframe to an interactive table.\"\n",
              "              style=\"display:none;\">\n",
              "        \n",
              "  <svg xmlns=\"http://www.w3.org/2000/svg\" height=\"24px\"viewBox=\"0 0 24 24\"\n",
              "       width=\"24px\">\n",
              "    <path d=\"M0 0h24v24H0V0z\" fill=\"none\"/>\n",
              "    <path d=\"M18.56 5.44l.94 2.06.94-2.06 2.06-.94-2.06-.94-.94-2.06-.94 2.06-2.06.94zm-11 1L8.5 8.5l.94-2.06 2.06-.94-2.06-.94L8.5 2.5l-.94 2.06-2.06.94zm10 10l.94 2.06.94-2.06 2.06-.94-2.06-.94-.94-2.06-.94 2.06-2.06.94z\"/><path d=\"M17.41 7.96l-1.37-1.37c-.4-.4-.92-.59-1.43-.59-.52 0-1.04.2-1.43.59L10.3 9.45l-7.72 7.72c-.78.78-.78 2.05 0 2.83L4 21.41c.39.39.9.59 1.41.59.51 0 1.02-.2 1.41-.59l7.78-7.78 2.81-2.81c.8-.78.8-2.07 0-2.86zM5.41 20L4 18.59l7.72-7.72 1.47 1.35L5.41 20z\"/>\n",
              "  </svg>\n",
              "      </button>\n",
              "      \n",
              "  <style>\n",
              "    .colab-df-container {\n",
              "      display:flex;\n",
              "      flex-wrap:wrap;\n",
              "      gap: 12px;\n",
              "    }\n",
              "\n",
              "    .colab-df-convert {\n",
              "      background-color: #E8F0FE;\n",
              "      border: none;\n",
              "      border-radius: 50%;\n",
              "      cursor: pointer;\n",
              "      display: none;\n",
              "      fill: #1967D2;\n",
              "      height: 32px;\n",
              "      padding: 0 0 0 0;\n",
              "      width: 32px;\n",
              "    }\n",
              "\n",
              "    .colab-df-convert:hover {\n",
              "      background-color: #E2EBFA;\n",
              "      box-shadow: 0px 1px 2px rgba(60, 64, 67, 0.3), 0px 1px 3px 1px rgba(60, 64, 67, 0.15);\n",
              "      fill: #174EA6;\n",
              "    }\n",
              "\n",
              "    [theme=dark] .colab-df-convert {\n",
              "      background-color: #3B4455;\n",
              "      fill: #D2E3FC;\n",
              "    }\n",
              "\n",
              "    [theme=dark] .colab-df-convert:hover {\n",
              "      background-color: #434B5C;\n",
              "      box-shadow: 0px 1px 3px 1px rgba(0, 0, 0, 0.15);\n",
              "      filter: drop-shadow(0px 1px 2px rgba(0, 0, 0, 0.3));\n",
              "      fill: #FFFFFF;\n",
              "    }\n",
              "  </style>\n",
              "\n",
              "      <script>\n",
              "        const buttonEl =\n",
              "          document.querySelector('#df-5f02069f-ebe2-47ce-9a1e-8fc2e06737c7 button.colab-df-convert');\n",
              "        buttonEl.style.display =\n",
              "          google.colab.kernel.accessAllowed ? 'block' : 'none';\n",
              "\n",
              "        async function convertToInteractive(key) {\n",
              "          const element = document.querySelector('#df-5f02069f-ebe2-47ce-9a1e-8fc2e06737c7');\n",
              "          const dataTable =\n",
              "            await google.colab.kernel.invokeFunction('convertToInteractive',\n",
              "                                                     [key], {});\n",
              "          if (!dataTable) return;\n",
              "\n",
              "          const docLinkHtml = 'Like what you see? Visit the ' +\n",
              "            '<a target=\"_blank\" href=https://colab.research.google.com/notebooks/data_table.ipynb>data table notebook</a>'\n",
              "            + ' to learn more about interactive tables.';\n",
              "          element.innerHTML = '';\n",
              "          dataTable['output_type'] = 'display_data';\n",
              "          await google.colab.output.renderOutput(dataTable, element);\n",
              "          const docLink = document.createElement('div');\n",
              "          docLink.innerHTML = docLinkHtml;\n",
              "          element.appendChild(docLink);\n",
              "        }\n",
              "      </script>\n",
              "    </div>\n",
              "  </div>\n",
              "  "
            ],
            "text/plain": [
              "           Left Hand Side     Right Hand Side   Support  Confidence       Lift\n",
              "0   Instant food products      hamburger meat  0.003050    0.379747  11.421438\n",
              "1           baking powder  whipped/sour cream  0.004575    0.258621   3.607850\n",
              "2                    beef     root vegetables  0.017387    0.331395   3.040367\n",
              "3                 berries  whipped/sour cream  0.009049    0.272171   3.796886\n",
              "4                  liquor        bottled beer  0.004677    0.422018   5.240594\n",
              "5          red/blush wine        bottled beer  0.004881    0.253968   3.153760\n",
              "6                   flour           margarine  0.003762    0.216374   3.694516\n",
              "7                   flour               sugar  0.004982    0.286550   8.463112\n",
              "8                   flour  whipped/sour cream  0.004067    0.233918   3.263241\n",
              "9                   herbs     root vegetables  0.007016    0.431250   3.956477\n",
              "10       processed cheese         white bread  0.004169    0.251534   5.975445\n",
              "11                   rice     root vegetables  0.003152    0.413333   3.792102\n",
              "12          sliced cheese             sausage  0.007016    0.286307   3.047435"
            ]
          },
          "execution_count": 33,
          "metadata": {},
          "output_type": "execute_result"
        }
      ],
      "source": [
        "resultsinDataFrame"
      ]
    },
    {
      "cell_type": "markdown",
      "metadata": {
        "id": "IjrrlYW4jpTR"
      },
      "source": [
        "### Displaying the results sorted by descending lifts"
      ]
    },
    {
      "cell_type": "code",
      "execution_count": null,
      "metadata": {
        "colab": {
          "base_uri": "https://localhost:8080/",
          "height": 457
        },
        "id": "nI7DJXng-nxQ",
        "outputId": "539202c1-0e91-436a-9280-ab6dc556d7f3"
      },
      "outputs": [
        {
          "data": {
            "text/html": [
              "\n",
              "  <div id=\"df-5568f7b6-e597-469e-8ed5-84020143b8d4\">\n",
              "    <div class=\"colab-df-container\">\n",
              "      <div>\n",
              "<style scoped>\n",
              "    .dataframe tbody tr th:only-of-type {\n",
              "        vertical-align: middle;\n",
              "    }\n",
              "\n",
              "    .dataframe tbody tr th {\n",
              "        vertical-align: top;\n",
              "    }\n",
              "\n",
              "    .dataframe thead th {\n",
              "        text-align: right;\n",
              "    }\n",
              "</style>\n",
              "<table border=\"1\" class=\"dataframe\">\n",
              "  <thead>\n",
              "    <tr style=\"text-align: right;\">\n",
              "      <th></th>\n",
              "      <th>Left Hand Side</th>\n",
              "      <th>Right Hand Side</th>\n",
              "      <th>Support</th>\n",
              "      <th>Confidence</th>\n",
              "      <th>Lift</th>\n",
              "    </tr>\n",
              "  </thead>\n",
              "  <tbody>\n",
              "    <tr>\n",
              "      <th>0</th>\n",
              "      <td>Instant food products</td>\n",
              "      <td>hamburger meat</td>\n",
              "      <td>0.003050</td>\n",
              "      <td>0.379747</td>\n",
              "      <td>11.421438</td>\n",
              "    </tr>\n",
              "    <tr>\n",
              "      <th>7</th>\n",
              "      <td>flour</td>\n",
              "      <td>sugar</td>\n",
              "      <td>0.004982</td>\n",
              "      <td>0.286550</td>\n",
              "      <td>8.463112</td>\n",
              "    </tr>\n",
              "    <tr>\n",
              "      <th>10</th>\n",
              "      <td>processed cheese</td>\n",
              "      <td>white bread</td>\n",
              "      <td>0.004169</td>\n",
              "      <td>0.251534</td>\n",
              "      <td>5.975445</td>\n",
              "    </tr>\n",
              "    <tr>\n",
              "      <th>4</th>\n",
              "      <td>liquor</td>\n",
              "      <td>bottled beer</td>\n",
              "      <td>0.004677</td>\n",
              "      <td>0.422018</td>\n",
              "      <td>5.240594</td>\n",
              "    </tr>\n",
              "    <tr>\n",
              "      <th>9</th>\n",
              "      <td>herbs</td>\n",
              "      <td>root vegetables</td>\n",
              "      <td>0.007016</td>\n",
              "      <td>0.431250</td>\n",
              "      <td>3.956477</td>\n",
              "    </tr>\n",
              "    <tr>\n",
              "      <th>3</th>\n",
              "      <td>berries</td>\n",
              "      <td>whipped/sour cream</td>\n",
              "      <td>0.009049</td>\n",
              "      <td>0.272171</td>\n",
              "      <td>3.796886</td>\n",
              "    </tr>\n",
              "    <tr>\n",
              "      <th>11</th>\n",
              "      <td>rice</td>\n",
              "      <td>root vegetables</td>\n",
              "      <td>0.003152</td>\n",
              "      <td>0.413333</td>\n",
              "      <td>3.792102</td>\n",
              "    </tr>\n",
              "    <tr>\n",
              "      <th>6</th>\n",
              "      <td>flour</td>\n",
              "      <td>margarine</td>\n",
              "      <td>0.003762</td>\n",
              "      <td>0.216374</td>\n",
              "      <td>3.694516</td>\n",
              "    </tr>\n",
              "    <tr>\n",
              "      <th>1</th>\n",
              "      <td>baking powder</td>\n",
              "      <td>whipped/sour cream</td>\n",
              "      <td>0.004575</td>\n",
              "      <td>0.258621</td>\n",
              "      <td>3.607850</td>\n",
              "    </tr>\n",
              "    <tr>\n",
              "      <th>8</th>\n",
              "      <td>flour</td>\n",
              "      <td>whipped/sour cream</td>\n",
              "      <td>0.004067</td>\n",
              "      <td>0.233918</td>\n",
              "      <td>3.263241</td>\n",
              "    </tr>\n",
              "    <tr>\n",
              "      <th>5</th>\n",
              "      <td>red/blush wine</td>\n",
              "      <td>bottled beer</td>\n",
              "      <td>0.004881</td>\n",
              "      <td>0.253968</td>\n",
              "      <td>3.153760</td>\n",
              "    </tr>\n",
              "    <tr>\n",
              "      <th>12</th>\n",
              "      <td>sliced cheese</td>\n",
              "      <td>sausage</td>\n",
              "      <td>0.007016</td>\n",
              "      <td>0.286307</td>\n",
              "      <td>3.047435</td>\n",
              "    </tr>\n",
              "    <tr>\n",
              "      <th>2</th>\n",
              "      <td>beef</td>\n",
              "      <td>root vegetables</td>\n",
              "      <td>0.017387</td>\n",
              "      <td>0.331395</td>\n",
              "      <td>3.040367</td>\n",
              "    </tr>\n",
              "  </tbody>\n",
              "</table>\n",
              "</div>\n",
              "      <button class=\"colab-df-convert\" onclick=\"convertToInteractive('df-5568f7b6-e597-469e-8ed5-84020143b8d4')\"\n",
              "              title=\"Convert this dataframe to an interactive table.\"\n",
              "              style=\"display:none;\">\n",
              "        \n",
              "  <svg xmlns=\"http://www.w3.org/2000/svg\" height=\"24px\"viewBox=\"0 0 24 24\"\n",
              "       width=\"24px\">\n",
              "    <path d=\"M0 0h24v24H0V0z\" fill=\"none\"/>\n",
              "    <path d=\"M18.56 5.44l.94 2.06.94-2.06 2.06-.94-2.06-.94-.94-2.06-.94 2.06-2.06.94zm-11 1L8.5 8.5l.94-2.06 2.06-.94-2.06-.94L8.5 2.5l-.94 2.06-2.06.94zm10 10l.94 2.06.94-2.06 2.06-.94-2.06-.94-.94-2.06-.94 2.06-2.06.94z\"/><path d=\"M17.41 7.96l-1.37-1.37c-.4-.4-.92-.59-1.43-.59-.52 0-1.04.2-1.43.59L10.3 9.45l-7.72 7.72c-.78.78-.78 2.05 0 2.83L4 21.41c.39.39.9.59 1.41.59.51 0 1.02-.2 1.41-.59l7.78-7.78 2.81-2.81c.8-.78.8-2.07 0-2.86zM5.41 20L4 18.59l7.72-7.72 1.47 1.35L5.41 20z\"/>\n",
              "  </svg>\n",
              "      </button>\n",
              "      \n",
              "  <style>\n",
              "    .colab-df-container {\n",
              "      display:flex;\n",
              "      flex-wrap:wrap;\n",
              "      gap: 12px;\n",
              "    }\n",
              "\n",
              "    .colab-df-convert {\n",
              "      background-color: #E8F0FE;\n",
              "      border: none;\n",
              "      border-radius: 50%;\n",
              "      cursor: pointer;\n",
              "      display: none;\n",
              "      fill: #1967D2;\n",
              "      height: 32px;\n",
              "      padding: 0 0 0 0;\n",
              "      width: 32px;\n",
              "    }\n",
              "\n",
              "    .colab-df-convert:hover {\n",
              "      background-color: #E2EBFA;\n",
              "      box-shadow: 0px 1px 2px rgba(60, 64, 67, 0.3), 0px 1px 3px 1px rgba(60, 64, 67, 0.15);\n",
              "      fill: #174EA6;\n",
              "    }\n",
              "\n",
              "    [theme=dark] .colab-df-convert {\n",
              "      background-color: #3B4455;\n",
              "      fill: #D2E3FC;\n",
              "    }\n",
              "\n",
              "    [theme=dark] .colab-df-convert:hover {\n",
              "      background-color: #434B5C;\n",
              "      box-shadow: 0px 1px 3px 1px rgba(0, 0, 0, 0.15);\n",
              "      filter: drop-shadow(0px 1px 2px rgba(0, 0, 0, 0.3));\n",
              "      fill: #FFFFFF;\n",
              "    }\n",
              "  </style>\n",
              "\n",
              "      <script>\n",
              "        const buttonEl =\n",
              "          document.querySelector('#df-5568f7b6-e597-469e-8ed5-84020143b8d4 button.colab-df-convert');\n",
              "        buttonEl.style.display =\n",
              "          google.colab.kernel.accessAllowed ? 'block' : 'none';\n",
              "\n",
              "        async function convertToInteractive(key) {\n",
              "          const element = document.querySelector('#df-5568f7b6-e597-469e-8ed5-84020143b8d4');\n",
              "          const dataTable =\n",
              "            await google.colab.kernel.invokeFunction('convertToInteractive',\n",
              "                                                     [key], {});\n",
              "          if (!dataTable) return;\n",
              "\n",
              "          const docLinkHtml = 'Like what you see? Visit the ' +\n",
              "            '<a target=\"_blank\" href=https://colab.research.google.com/notebooks/data_table.ipynb>data table notebook</a>'\n",
              "            + ' to learn more about interactive tables.';\n",
              "          element.innerHTML = '';\n",
              "          dataTable['output_type'] = 'display_data';\n",
              "          await google.colab.output.renderOutput(dataTable, element);\n",
              "          const docLink = document.createElement('div');\n",
              "          docLink.innerHTML = docLinkHtml;\n",
              "          element.appendChild(docLink);\n",
              "        }\n",
              "      </script>\n",
              "    </div>\n",
              "  </div>\n",
              "  "
            ],
            "text/plain": [
              "           Left Hand Side     Right Hand Side   Support  Confidence       Lift\n",
              "0   Instant food products      hamburger meat  0.003050    0.379747  11.421438\n",
              "7                   flour               sugar  0.004982    0.286550   8.463112\n",
              "10       processed cheese         white bread  0.004169    0.251534   5.975445\n",
              "4                  liquor        bottled beer  0.004677    0.422018   5.240594\n",
              "9                   herbs     root vegetables  0.007016    0.431250   3.956477\n",
              "3                 berries  whipped/sour cream  0.009049    0.272171   3.796886\n",
              "11                   rice     root vegetables  0.003152    0.413333   3.792102\n",
              "6                   flour           margarine  0.003762    0.216374   3.694516\n",
              "1           baking powder  whipped/sour cream  0.004575    0.258621   3.607850\n",
              "8                   flour  whipped/sour cream  0.004067    0.233918   3.263241\n",
              "5          red/blush wine        bottled beer  0.004881    0.253968   3.153760\n",
              "12          sliced cheese             sausage  0.007016    0.286307   3.047435\n",
              "2                    beef     root vegetables  0.017387    0.331395   3.040367"
            ]
          },
          "execution_count": 35,
          "metadata": {},
          "output_type": "execute_result"
        }
      ],
      "source": [
        "resultsinDataFrame.nlargest(n = 13, columns = 'Lift')"
      ]
    }
  ],
  "metadata": {
    "colab": {
      "provenance": [],
      "include_colab_link": true
    },
    "kernelspec": {
      "display_name": "Python 3",
      "name": "python3"
    },
    "language_info": {
      "name": "python"
    }
  },
  "nbformat": 4,
  "nbformat_minor": 0
}